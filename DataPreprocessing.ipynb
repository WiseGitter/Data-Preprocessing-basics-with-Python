{
  "metadata": {
    "language_info": {
      "codemirror_mode": {
        "name": "python",
        "version": 3
      },
      "file_extension": ".py",
      "mimetype": "text/x-python",
      "name": "python",
      "nbconvert_exporter": "python",
      "pygments_lexer": "ipython3",
      "version": "3.8"
    },
    "kernelspec": {
      "name": "python",
      "display_name": "Python (Pyodide)",
      "language": "python"
    }
  },
  "nbformat_minor": 4,
  "nbformat": 4,
  "cells": [
    {
      "cell_type": "markdown",
      "source": "## Data Preprocessing of a Population (Dataset from Kaggle)",
      "metadata": {}
    },
    {
      "cell_type": "markdown",
      "source": "### Importing the libraries and the dataset",
      "metadata": {}
    },
    {
      "cell_type": "code",
      "source": "import warnings\nimport numpy as np\nimport pandas as pd\nfrom scipy import stats\nimport matplotlib.pyplot as plt\n\nwarnings.filterwarnings(\"ignore\")\n",
      "metadata": {
        "trusted": true
      },
      "execution_count": 158,
      "outputs": []
    },
    {
      "cell_type": "code",
      "source": "df = pd.read_csv('county_population_by_race.csv')\ndf.head(5)",
      "metadata": {
        "trusted": true
      },
      "execution_count": 159,
      "outputs": [
        {
          "execution_count": 159,
          "output_type": "execute_result",
          "data": {
            "text/plain": "                    county total_population_of_one_race  \\\n0  Autauga County, Alabama                       55,648   \n1  Baldwin County, Alabama                      216,743   \n2  Barbour County, Alabama                       24,523   \n3     Bibb County, Alabama                       21,534   \n4   Blount County, Alabama                       55,478   \n\n  total_population_of_one_race_white_alone  \\\n0                                   42,160   \n1                                  189,399   \n2                                   11,317   \n3                                   16,555   \n4                                   50,663   \n\n  total_population_of_one_race_black_or_african_american_alone  \\\n0                                             11,445             \n1                                             18,217             \n2                                             11,933             \n3                                              4,413             \n4                                                845             \n\n  total_population_of_one_race_american_indian_and_alaska_native_alone  \\\n0                                                217                     \n1                                              1,582                     \n2                                                116                     \n3                                                 60                     \n4                                                337                     \n\n  total_population_of_one_race_asian_alone  \\\n0                                      881   \n1                                    2,067   \n2                                      117   \n3                                       32   \n4                                      178   \n\n  total_population_of_one_race_native_hawaiian_and_other_pacific_islander_alone  \\\n0                                                 35                              \n1                                                143                              \n2                                                  1                              \n3                                                  9                              \n4                                                 24                              \n\n  total_population_of_one_race_some_other_race_alone  \\\n0                                                910   \n1                                              5,335   \n2                                              1,039   \n3                                                465   \n4                                              3,431   \n\n  total_population_of_two_or_more_races  \n0                                 3,157  \n1                                15,024  \n2                                   700  \n3                                   759  \n4                                 3,656  ",
            "text/html": "<div>\n<style scoped>\n    .dataframe tbody tr th:only-of-type {\n        vertical-align: middle;\n    }\n\n    .dataframe tbody tr th {\n        vertical-align: top;\n    }\n\n    .dataframe thead th {\n        text-align: right;\n    }\n</style>\n<table border=\"1\" class=\"dataframe\">\n  <thead>\n    <tr style=\"text-align: right;\">\n      <th></th>\n      <th>county</th>\n      <th>total_population_of_one_race</th>\n      <th>total_population_of_one_race_white_alone</th>\n      <th>total_population_of_one_race_black_or_african_american_alone</th>\n      <th>total_population_of_one_race_american_indian_and_alaska_native_alone</th>\n      <th>total_population_of_one_race_asian_alone</th>\n      <th>total_population_of_one_race_native_hawaiian_and_other_pacific_islander_alone</th>\n      <th>total_population_of_one_race_some_other_race_alone</th>\n      <th>total_population_of_two_or_more_races</th>\n    </tr>\n  </thead>\n  <tbody>\n    <tr>\n      <th>0</th>\n      <td>Autauga County, Alabama</td>\n      <td>55,648</td>\n      <td>42,160</td>\n      <td>11,445</td>\n      <td>217</td>\n      <td>881</td>\n      <td>35</td>\n      <td>910</td>\n      <td>3,157</td>\n    </tr>\n    <tr>\n      <th>1</th>\n      <td>Baldwin County, Alabama</td>\n      <td>216,743</td>\n      <td>189,399</td>\n      <td>18,217</td>\n      <td>1,582</td>\n      <td>2,067</td>\n      <td>143</td>\n      <td>5,335</td>\n      <td>15,024</td>\n    </tr>\n    <tr>\n      <th>2</th>\n      <td>Barbour County, Alabama</td>\n      <td>24,523</td>\n      <td>11,317</td>\n      <td>11,933</td>\n      <td>116</td>\n      <td>117</td>\n      <td>1</td>\n      <td>1,039</td>\n      <td>700</td>\n    </tr>\n    <tr>\n      <th>3</th>\n      <td>Bibb County, Alabama</td>\n      <td>21,534</td>\n      <td>16,555</td>\n      <td>4,413</td>\n      <td>60</td>\n      <td>32</td>\n      <td>9</td>\n      <td>465</td>\n      <td>759</td>\n    </tr>\n    <tr>\n      <th>4</th>\n      <td>Blount County, Alabama</td>\n      <td>55,478</td>\n      <td>50,663</td>\n      <td>845</td>\n      <td>337</td>\n      <td>178</td>\n      <td>24</td>\n      <td>3,431</td>\n      <td>3,656</td>\n    </tr>\n  </tbody>\n</table>\n</div>"
          },
          "metadata": {}
        }
      ]
    },
    {
      "cell_type": "code",
      "source": "df.info()",
      "metadata": {
        "trusted": true
      },
      "execution_count": 160,
      "outputs": [
        {
          "name": "stdout",
          "text": "<class 'pandas.core.frame.DataFrame'>\nRangeIndex: 3222 entries, 0 to 3221\nData columns (total 9 columns):\n #   Column                                                                         Non-Null Count  Dtype \n---  ------                                                                         --------------  ----- \n 0   county                                                                         3222 non-null   object\n 1   total_population_of_one_race                                                   3222 non-null   object\n 2   total_population_of_one_race_white_alone                                       3222 non-null   object\n 3   total_population_of_one_race_black_or_african_american_alone                   3222 non-null   object\n 4   total_population_of_one_race_american_indian_and_alaska_native_alone           3222 non-null   object\n 5   total_population_of_one_race_asian_alone                                       3222 non-null   object\n 6   total_population_of_one_race_native_hawaiian_and_other_pacific_islander_alone  3222 non-null   object\n 7   total_population_of_one_race_some_other_race_alone                             3222 non-null   object\n 8   total_population_of_two_or_more_races                                          3222 non-null   object\ndtypes: object(9)\nmemory usage: 113.3+ KB\n",
          "output_type": "stream"
        }
      ]
    },
    {
      "cell_type": "code",
      "source": "df.dtypes",
      "metadata": {
        "trusted": true
      },
      "execution_count": 161,
      "outputs": [
        {
          "execution_count": 161,
          "output_type": "execute_result",
          "data": {
            "text/plain": "county                                                                           object\ntotal_population_of_one_race                                                     object\ntotal_population_of_one_race_white_alone                                         object\ntotal_population_of_one_race_black_or_african_american_alone                     object\ntotal_population_of_one_race_american_indian_and_alaska_native_alone             object\ntotal_population_of_one_race_asian_alone                                         object\ntotal_population_of_one_race_native_hawaiian_and_other_pacific_islander_alone    object\ntotal_population_of_one_race_some_other_race_alone                               object\ntotal_population_of_two_or_more_races                                            object\ndtype: object"
          },
          "metadata": {}
        }
      ]
    },
    {
      "cell_type": "code",
      "source": "df.shape",
      "metadata": {
        "trusted": true
      },
      "execution_count": 162,
      "outputs": [
        {
          "execution_count": 162,
          "output_type": "execute_result",
          "data": {
            "text/plain": "(3222, 9)"
          },
          "metadata": {}
        }
      ]
    },
    {
      "cell_type": "markdown",
      "source": "### Checking the number of duplicate rows in the dataset",
      "metadata": {}
    },
    {
      "cell_type": "code",
      "source": "dupli_rows = df[df.duplicated()]\nprint(\"No. of duplicated rows : \", dupli_rows.shape)",
      "metadata": {
        "trusted": true
      },
      "execution_count": 163,
      "outputs": [
        {
          "name": "stdout",
          "text": "No. of duplicated rows :  (0, 9)\n",
          "output_type": "stream"
        }
      ]
    },
    {
      "cell_type": "markdown",
      "source": "### Command to drop the duplicate rows",
      "metadata": {}
    },
    {
      "cell_type": "code",
      "source": "df = df.drop_duplicates()\ndf.shape",
      "metadata": {
        "trusted": true
      },
      "execution_count": 147,
      "outputs": [
        {
          "execution_count": 147,
          "output_type": "execute_result",
          "data": {
            "text/plain": "(3222, 9)"
          },
          "metadata": {}
        }
      ]
    },
    {
      "cell_type": "markdown",
      "source": "### Checking if there are any null values present",
      "metadata": {}
    },
    {
      "cell_type": "code",
      "source": "print(df.isnull().sum())",
      "metadata": {
        "trusted": true
      },
      "execution_count": 164,
      "outputs": [
        {
          "name": "stdout",
          "text": "county                                                                           0\ntotal_population_of_one_race                                                     0\ntotal_population_of_one_race_white_alone                                         0\ntotal_population_of_one_race_black_or_african_american_alone                     0\ntotal_population_of_one_race_american_indian_and_alaska_native_alone             0\ntotal_population_of_one_race_asian_alone                                         0\ntotal_population_of_one_race_native_hawaiian_and_other_pacific_islander_alone    0\ntotal_population_of_one_race_some_other_race_alone                               0\ntotal_population_of_two_or_more_races                                            0\ndtype: int64\n",
          "output_type": "stream"
        }
      ]
    },
    {
      "cell_type": "markdown",
      "source": "### Renaming the names of the columns",
      "metadata": {}
    },
    {
      "cell_type": "code",
      "source": "df = df.rename(columns={'total_population_of_one_race': 'One Race', 'total_population_of_one_race_white_alone': 'White races', \n                        'total_population_of_one_race_black_or_african_american_alone': 'Black races',\n                       'total_population_of_one_race_american_indian_and_alaska_native_alone': 'Native american',\n                       'total_population_of_one_race_asian_alone': 'Asian Races',\n                       'total_population_of_one_race_native_hawaiian_and_other_pacific_islander_alone': 'Hawaiian races',\n                       'total_population_of_one_race_some_other_race_alone': 'other races',\n                       'total_population_of_two_or_more_races': 'two or more mixed races'})\ndf.head(5)\n",
      "metadata": {
        "trusted": true
      },
      "execution_count": 165,
      "outputs": [
        {
          "execution_count": 165,
          "output_type": "execute_result",
          "data": {
            "text/plain": "                    county One Race White races Black races Native american  \\\n0  Autauga County, Alabama   55,648      42,160      11,445             217   \n1  Baldwin County, Alabama  216,743     189,399      18,217           1,582   \n2  Barbour County, Alabama   24,523      11,317      11,933             116   \n3     Bibb County, Alabama   21,534      16,555       4,413              60   \n4   Blount County, Alabama   55,478      50,663         845             337   \n\n  Asian Races Hawaiian races other races two or more mixed races  \n0         881             35         910                   3,157  \n1       2,067            143       5,335                  15,024  \n2         117              1       1,039                     700  \n3          32              9         465                     759  \n4         178             24       3,431                   3,656  ",
            "text/html": "<div>\n<style scoped>\n    .dataframe tbody tr th:only-of-type {\n        vertical-align: middle;\n    }\n\n    .dataframe tbody tr th {\n        vertical-align: top;\n    }\n\n    .dataframe thead th {\n        text-align: right;\n    }\n</style>\n<table border=\"1\" class=\"dataframe\">\n  <thead>\n    <tr style=\"text-align: right;\">\n      <th></th>\n      <th>county</th>\n      <th>One Race</th>\n      <th>White races</th>\n      <th>Black races</th>\n      <th>Native american</th>\n      <th>Asian Races</th>\n      <th>Hawaiian races</th>\n      <th>other races</th>\n      <th>two or more mixed races</th>\n    </tr>\n  </thead>\n  <tbody>\n    <tr>\n      <th>0</th>\n      <td>Autauga County, Alabama</td>\n      <td>55,648</td>\n      <td>42,160</td>\n      <td>11,445</td>\n      <td>217</td>\n      <td>881</td>\n      <td>35</td>\n      <td>910</td>\n      <td>3,157</td>\n    </tr>\n    <tr>\n      <th>1</th>\n      <td>Baldwin County, Alabama</td>\n      <td>216,743</td>\n      <td>189,399</td>\n      <td>18,217</td>\n      <td>1,582</td>\n      <td>2,067</td>\n      <td>143</td>\n      <td>5,335</td>\n      <td>15,024</td>\n    </tr>\n    <tr>\n      <th>2</th>\n      <td>Barbour County, Alabama</td>\n      <td>24,523</td>\n      <td>11,317</td>\n      <td>11,933</td>\n      <td>116</td>\n      <td>117</td>\n      <td>1</td>\n      <td>1,039</td>\n      <td>700</td>\n    </tr>\n    <tr>\n      <th>3</th>\n      <td>Bibb County, Alabama</td>\n      <td>21,534</td>\n      <td>16,555</td>\n      <td>4,413</td>\n      <td>60</td>\n      <td>32</td>\n      <td>9</td>\n      <td>465</td>\n      <td>759</td>\n    </tr>\n    <tr>\n      <th>4</th>\n      <td>Blount County, Alabama</td>\n      <td>55,478</td>\n      <td>50,663</td>\n      <td>845</td>\n      <td>337</td>\n      <td>178</td>\n      <td>24</td>\n      <td>3,431</td>\n      <td>3,656</td>\n    </tr>\n  </tbody>\n</table>\n</div>"
          },
          "metadata": {}
        }
      ]
    },
    {
      "cell_type": "code",
      "source": "df['county'].unique()",
      "metadata": {
        "trusted": true
      },
      "execution_count": 166,
      "outputs": [
        {
          "execution_count": 166,
          "output_type": "execute_result",
          "data": {
            "text/plain": "array(['Autauga County, Alabama', 'Baldwin County, Alabama',\n       'Barbour County, Alabama', ..., 'Yabucoa Municipio, Puerto Rico',\n       'Yauco Municipio, Puerto Rico', 'United States'], dtype=object)"
          },
          "metadata": {}
        }
      ]
    },
    {
      "cell_type": "markdown",
      "source": "### Changing the datatypes",
      "metadata": {}
    },
    {
      "cell_type": "code",
      "source": "\n# The population should be integer instead of object datatype\n\n#df['One Race'] = [x.replace(',','') for x in df['One Race']]\n#df['One Race'] = df['One Race'].astype(float)\n\ndf['White races'] = [x.replace(',','') for x in df['White races']]\ndf['White races'] = df['White races'].astype(float)\n\ndf['Black races'] = [x.replace(',','') for x in df['Black races']]\ndf['Black races'] = df['Black races'].astype(float)\n\ndf['Native american'] = [x.replace(',','') for x in df['Native american']]\ndf['Native american'] = df['Native american'].astype(float)\n\ndf['Asian Races'] = [x.replace(',','') for x in df['Asian Races']]\ndf['Asian Races'] = df['Asian Races'].astype(float)\n\ndf['Hawaiian races'] = [x.replace(',','') for x in df['Hawaiian races']]\ndf['Hawaiian races'] = df['Hawaiian races'].astype(float)\n\ndf['other races'] = [x.replace(',','') for x in df['other races']]\ndf['other races'] = df['other races'].astype(float)\n\ndf['two or more mixed races'] = [x.replace(',','') for x in df['two or more mixed races']]\ndf['two or more mixed races'] = df['two or more mixed races'].astype(float)",
      "metadata": {
        "trusted": true
      },
      "execution_count": 167,
      "outputs": []
    },
    {
      "cell_type": "code",
      "source": "df.dtypes",
      "metadata": {
        "trusted": true
      },
      "execution_count": 168,
      "outputs": [
        {
          "execution_count": 168,
          "output_type": "execute_result",
          "data": {
            "text/plain": "county                      object\nOne Race                    object\nWhite races                float64\nBlack races                float64\nNative american            float64\nAsian Races                float64\nHawaiian races             float64\nother races                float64\ntwo or more mixed races    float64\ndtype: object"
          },
          "metadata": {}
        }
      ]
    },
    {
      "cell_type": "markdown",
      "source": "### Data description",
      "metadata": {}
    },
    {
      "cell_type": "code",
      "source": "df.describe()",
      "metadata": {
        "trusted": true
      },
      "execution_count": 169,
      "outputs": [
        {
          "execution_count": 169,
          "output_type": "execute_result",
          "data": {
            "text/plain": "        White races   Black races  Native american   Asian Races  \\\ncount  3.222000e+03  3.222000e+03     3.222000e+03  3.222000e+03   \nmean   1.269755e+05  2.558570e+04     2.319100e+03  1.234516e+04   \nstd    3.600920e+06  7.259532e+05     6.583857e+04  3.529591e+05   \nmin    2.700000e+01  0.000000e+00     0.000000e+00  0.000000e+00   \n25%    7.771250e+03  9.000000e+01     4.800000e+01  3.400000e+01   \n50%    1.938200e+04  8.425000e+02     1.470000e+02  1.295000e+02   \n75%    5.252450e+04  5.305500e+03     5.432500e+02  7.912500e+02   \nmax    2.042773e+08  4.110420e+07     3.727135e+06  1.988605e+07   \n\n       Hawaiian races   other races  two or more mixed races  \ncount     3222.000000  3.222000e+03             3.222000e+03  \nmean       428.468343  1.758838e+04             2.151883e+04  \nstd      12351.096604  4.957550e+05             5.982174e+05  \nmin          0.000000  0.000000e+00             6.000000e+00  \n25%          2.000000  1.350000e+02             5.232500e+02  \n50%          9.000000  5.400000e+02             1.472000e+03  \n75%         37.000000  2.727250e+03             5.524000e+03  \nmax     689966.000000  2.791572e+07             3.384894e+07  ",
            "text/html": "<div>\n<style scoped>\n    .dataframe tbody tr th:only-of-type {\n        vertical-align: middle;\n    }\n\n    .dataframe tbody tr th {\n        vertical-align: top;\n    }\n\n    .dataframe thead th {\n        text-align: right;\n    }\n</style>\n<table border=\"1\" class=\"dataframe\">\n  <thead>\n    <tr style=\"text-align: right;\">\n      <th></th>\n      <th>White races</th>\n      <th>Black races</th>\n      <th>Native american</th>\n      <th>Asian Races</th>\n      <th>Hawaiian races</th>\n      <th>other races</th>\n      <th>two or more mixed races</th>\n    </tr>\n  </thead>\n  <tbody>\n    <tr>\n      <th>count</th>\n      <td>3.222000e+03</td>\n      <td>3.222000e+03</td>\n      <td>3.222000e+03</td>\n      <td>3.222000e+03</td>\n      <td>3222.000000</td>\n      <td>3.222000e+03</td>\n      <td>3.222000e+03</td>\n    </tr>\n    <tr>\n      <th>mean</th>\n      <td>1.269755e+05</td>\n      <td>2.558570e+04</td>\n      <td>2.319100e+03</td>\n      <td>1.234516e+04</td>\n      <td>428.468343</td>\n      <td>1.758838e+04</td>\n      <td>2.151883e+04</td>\n    </tr>\n    <tr>\n      <th>std</th>\n      <td>3.600920e+06</td>\n      <td>7.259532e+05</td>\n      <td>6.583857e+04</td>\n      <td>3.529591e+05</td>\n      <td>12351.096604</td>\n      <td>4.957550e+05</td>\n      <td>5.982174e+05</td>\n    </tr>\n    <tr>\n      <th>min</th>\n      <td>2.700000e+01</td>\n      <td>0.000000e+00</td>\n      <td>0.000000e+00</td>\n      <td>0.000000e+00</td>\n      <td>0.000000</td>\n      <td>0.000000e+00</td>\n      <td>6.000000e+00</td>\n    </tr>\n    <tr>\n      <th>25%</th>\n      <td>7.771250e+03</td>\n      <td>9.000000e+01</td>\n      <td>4.800000e+01</td>\n      <td>3.400000e+01</td>\n      <td>2.000000</td>\n      <td>1.350000e+02</td>\n      <td>5.232500e+02</td>\n    </tr>\n    <tr>\n      <th>50%</th>\n      <td>1.938200e+04</td>\n      <td>8.425000e+02</td>\n      <td>1.470000e+02</td>\n      <td>1.295000e+02</td>\n      <td>9.000000</td>\n      <td>5.400000e+02</td>\n      <td>1.472000e+03</td>\n    </tr>\n    <tr>\n      <th>75%</th>\n      <td>5.252450e+04</td>\n      <td>5.305500e+03</td>\n      <td>5.432500e+02</td>\n      <td>7.912500e+02</td>\n      <td>37.000000</td>\n      <td>2.727250e+03</td>\n      <td>5.524000e+03</td>\n    </tr>\n    <tr>\n      <th>max</th>\n      <td>2.042773e+08</td>\n      <td>4.110420e+07</td>\n      <td>3.727135e+06</td>\n      <td>1.988605e+07</td>\n      <td>689966.000000</td>\n      <td>2.791572e+07</td>\n      <td>3.384894e+07</td>\n    </tr>\n  </tbody>\n</table>\n</div>"
          },
          "metadata": {}
        }
      ]
    },
    {
      "cell_type": "markdown",
      "source": "## Analysing and Visualising the Data",
      "metadata": {}
    },
    {
      "cell_type": "markdown",
      "source": "### Checking the Correlation",
      "metadata": {}
    },
    {
      "cell_type": "code",
      "source": "data_corr = df.corr()\ndata_corr",
      "metadata": {
        "trusted": true
      },
      "execution_count": 170,
      "outputs": [
        {
          "execution_count": 170,
          "output_type": "execute_result",
          "data": {
            "text/plain": "                         White races  Black races  Native american  \\\nWhite races                 1.000000     0.998575         0.998397   \nBlack races                 0.998575     1.000000         0.997145   \nNative american             0.998397     0.997145         1.000000   \nAsian Races                 0.995135     0.994643         0.995878   \nHawaiian races              0.985380     0.983296         0.985065   \nother races                 0.994807     0.994778         0.996838   \ntwo or more mixed races     0.998501     0.997891         0.998343   \n\n                         Asian Races  Hawaiian races  other races  \\\nWhite races                 0.995135        0.985380     0.994807   \nBlack races                 0.994643        0.983296     0.994778   \nNative american             0.995878        0.985065     0.996838   \nAsian Races                 1.000000        0.986854     0.997223   \nHawaiian races              0.986854        1.000000     0.982743   \nother races                 0.997223        0.982743     1.000000   \ntwo or more mixed races     0.996560        0.985997     0.997657   \n\n                         two or more mixed races  \nWhite races                             0.998501  \nBlack races                             0.997891  \nNative american                         0.998343  \nAsian Races                             0.996560  \nHawaiian races                          0.985997  \nother races                             0.997657  \ntwo or more mixed races                 1.000000  ",
            "text/html": "<div>\n<style scoped>\n    .dataframe tbody tr th:only-of-type {\n        vertical-align: middle;\n    }\n\n    .dataframe tbody tr th {\n        vertical-align: top;\n    }\n\n    .dataframe thead th {\n        text-align: right;\n    }\n</style>\n<table border=\"1\" class=\"dataframe\">\n  <thead>\n    <tr style=\"text-align: right;\">\n      <th></th>\n      <th>White races</th>\n      <th>Black races</th>\n      <th>Native american</th>\n      <th>Asian Races</th>\n      <th>Hawaiian races</th>\n      <th>other races</th>\n      <th>two or more mixed races</th>\n    </tr>\n  </thead>\n  <tbody>\n    <tr>\n      <th>White races</th>\n      <td>1.000000</td>\n      <td>0.998575</td>\n      <td>0.998397</td>\n      <td>0.995135</td>\n      <td>0.985380</td>\n      <td>0.994807</td>\n      <td>0.998501</td>\n    </tr>\n    <tr>\n      <th>Black races</th>\n      <td>0.998575</td>\n      <td>1.000000</td>\n      <td>0.997145</td>\n      <td>0.994643</td>\n      <td>0.983296</td>\n      <td>0.994778</td>\n      <td>0.997891</td>\n    </tr>\n    <tr>\n      <th>Native american</th>\n      <td>0.998397</td>\n      <td>0.997145</td>\n      <td>1.000000</td>\n      <td>0.995878</td>\n      <td>0.985065</td>\n      <td>0.996838</td>\n      <td>0.998343</td>\n    </tr>\n    <tr>\n      <th>Asian Races</th>\n      <td>0.995135</td>\n      <td>0.994643</td>\n      <td>0.995878</td>\n      <td>1.000000</td>\n      <td>0.986854</td>\n      <td>0.997223</td>\n      <td>0.996560</td>\n    </tr>\n    <tr>\n      <th>Hawaiian races</th>\n      <td>0.985380</td>\n      <td>0.983296</td>\n      <td>0.985065</td>\n      <td>0.986854</td>\n      <td>1.000000</td>\n      <td>0.982743</td>\n      <td>0.985997</td>\n    </tr>\n    <tr>\n      <th>other races</th>\n      <td>0.994807</td>\n      <td>0.994778</td>\n      <td>0.996838</td>\n      <td>0.997223</td>\n      <td>0.982743</td>\n      <td>1.000000</td>\n      <td>0.997657</td>\n    </tr>\n    <tr>\n      <th>two or more mixed races</th>\n      <td>0.998501</td>\n      <td>0.997891</td>\n      <td>0.998343</td>\n      <td>0.996560</td>\n      <td>0.985997</td>\n      <td>0.997657</td>\n      <td>1.000000</td>\n    </tr>\n  </tbody>\n</table>\n</div>"
          },
          "metadata": {}
        }
      ]
    },
    {
      "cell_type": "code",
      "source": "df.drop(['White races', 'Black races','Native american','Hawaiian races','other races','two or more mixed races'], axis = 1, inplace = True)\ndf.head(15)",
      "metadata": {
        "trusted": true
      },
      "execution_count": 172,
      "outputs": [
        {
          "execution_count": 172,
          "output_type": "execute_result",
          "data": {
            "text/plain": "                      county One Race  Asian Races\n0    Autauga County, Alabama   55,648        881.0\n1    Baldwin County, Alabama  216,743       2067.0\n2    Barbour County, Alabama   24,523        117.0\n3       Bibb County, Alabama   21,534         32.0\n4     Blount County, Alabama   55,478        178.0\n5    Bullock County, Alabama   10,109          9.0\n6     Butler County, Alabama   18,464        143.0\n7    Calhoun County, Alabama  110,412       1190.0\n8   Chambers County, Alabama   33,562        401.0\n9   Cherokee County, Alabama   24,051         56.0\n10   Chilton County, Alabama   43,011        181.0\n11   Choctaw County, Alabama   12,405         22.0\n12    Clarke County, Alabama   22,535         94.0\n13      Clay County, Alabama   13,641         48.0\n14  Cleburne County, Alabama   14,490         21.0",
            "text/html": "<div>\n<style scoped>\n    .dataframe tbody tr th:only-of-type {\n        vertical-align: middle;\n    }\n\n    .dataframe tbody tr th {\n        vertical-align: top;\n    }\n\n    .dataframe thead th {\n        text-align: right;\n    }\n</style>\n<table border=\"1\" class=\"dataframe\">\n  <thead>\n    <tr style=\"text-align: right;\">\n      <th></th>\n      <th>county</th>\n      <th>One Race</th>\n      <th>Asian Races</th>\n    </tr>\n  </thead>\n  <tbody>\n    <tr>\n      <th>0</th>\n      <td>Autauga County, Alabama</td>\n      <td>55,648</td>\n      <td>881.0</td>\n    </tr>\n    <tr>\n      <th>1</th>\n      <td>Baldwin County, Alabama</td>\n      <td>216,743</td>\n      <td>2067.0</td>\n    </tr>\n    <tr>\n      <th>2</th>\n      <td>Barbour County, Alabama</td>\n      <td>24,523</td>\n      <td>117.0</td>\n    </tr>\n    <tr>\n      <th>3</th>\n      <td>Bibb County, Alabama</td>\n      <td>21,534</td>\n      <td>32.0</td>\n    </tr>\n    <tr>\n      <th>4</th>\n      <td>Blount County, Alabama</td>\n      <td>55,478</td>\n      <td>178.0</td>\n    </tr>\n    <tr>\n      <th>5</th>\n      <td>Bullock County, Alabama</td>\n      <td>10,109</td>\n      <td>9.0</td>\n    </tr>\n    <tr>\n      <th>6</th>\n      <td>Butler County, Alabama</td>\n      <td>18,464</td>\n      <td>143.0</td>\n    </tr>\n    <tr>\n      <th>7</th>\n      <td>Calhoun County, Alabama</td>\n      <td>110,412</td>\n      <td>1190.0</td>\n    </tr>\n    <tr>\n      <th>8</th>\n      <td>Chambers County, Alabama</td>\n      <td>33,562</td>\n      <td>401.0</td>\n    </tr>\n    <tr>\n      <th>9</th>\n      <td>Cherokee County, Alabama</td>\n      <td>24,051</td>\n      <td>56.0</td>\n    </tr>\n    <tr>\n      <th>10</th>\n      <td>Chilton County, Alabama</td>\n      <td>43,011</td>\n      <td>181.0</td>\n    </tr>\n    <tr>\n      <th>11</th>\n      <td>Choctaw County, Alabama</td>\n      <td>12,405</td>\n      <td>22.0</td>\n    </tr>\n    <tr>\n      <th>12</th>\n      <td>Clarke County, Alabama</td>\n      <td>22,535</td>\n      <td>94.0</td>\n    </tr>\n    <tr>\n      <th>13</th>\n      <td>Clay County, Alabama</td>\n      <td>13,641</td>\n      <td>48.0</td>\n    </tr>\n    <tr>\n      <th>14</th>\n      <td>Cleburne County, Alabama</td>\n      <td>14,490</td>\n      <td>21.0</td>\n    </tr>\n  </tbody>\n</table>\n</div>"
          },
          "metadata": {}
        }
      ]
    }
  ]
}